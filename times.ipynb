{
 "cells": [
  {
   "cell_type": "code",
   "execution_count": 1,
   "metadata": {},
   "outputs": [],
   "source": [
    "import datetime"
   ]
  },
  {
   "cell_type": "code",
   "execution_count": 2,
   "metadata": {},
   "outputs": [],
   "source": [
    "def time_range(start_time, end_time, number_of_intervals=1, gap_between_intervals_s=0):\n",
    "    start_time_s = datetime.datetime.strptime(start_time, \"%Y-%m-%d %H:%M:%S\")\n",
    "    end_time_s = datetime.datetime.strptime(end_time, \"%Y-%m-%d %H:%M:%S\")\n",
    "    d = (end_time_s - start_time_s).total_seconds() / number_of_intervals + gap_between_intervals_s * (1 / number_of_intervals - 1)\n",
    "    sec_range = [(start_time_s + datetime.timedelta(seconds=i * d + i * gap_between_intervals_s),\n",
    "                  start_time_s + datetime.timedelta(seconds=(i + 1) * d + i * gap_between_intervals_s))\n",
    "                 for i in range(number_of_intervals)]\n",
    "    return [(ta.strftime(\"%Y-%m-%d %H:%M:%S\"), tb.strftime(\"%Y-%m-%d %H:%M:%S\")) for ta, tb in sec_range]"
   ]
  },
  {
   "cell_type": "code",
   "execution_count": 3,
   "metadata": {},
   "outputs": [],
   "source": [
    "def compute_overlap_time(range1, range2):\n",
    "    overlap_time = []\n",
    "    for start1, end1 in range1:\n",
    "        for start2, end2 in range2:\n",
    "            low = max(start1, start2)\n",
    "            high = min(end1, end2)\n",
    "            overlap_time.append((low, high))\n",
    "    return overlap_time"
   ]
  },
  {
   "cell_type": "code",
   "execution_count": 4,
   "metadata": {},
   "outputs": [
    {
     "name": "stdout",
     "output_type": "stream",
     "text": [
      "[('2010-01-12 10:30:00', '2010-01-12 10:37:00'), ('2010-01-12 10:38:00', '2010-01-12 10:45:00')]\n"
     ]
    }
   ],
   "source": [
    "if __name__ == \"__main__\":\n",
    "    large = time_range(\"2010-01-12 10:00:00\", \"2010-01-12 12:00:00\")\n",
    "    short = time_range(\"2010-01-12 10:30:00\", \"2010-01-12 10:45:00\", 2, 60)\n",
    "    print(compute_overlap_time(large, short))"
   ]
  },
  {
   "cell_type": "code",
   "execution_count": 5,
   "metadata": {},
   "outputs": [],
   "source": [
    "import datetime\n",
    "\n",
    "\n",
    "def time_range(start_time, end_time, number_of_intervals=1, gap_between_intervals_s=0):\n",
    "    start_time_s = datetime.datetime.strptime(start_time, \"%Y-%m-%d %H:%M:%S\")\n",
    "    end_time_s = datetime.datetime.strptime(end_time, \"%Y-%m-%d %H:%M:%S\")\n",
    "    d = (end_time_s - start_time_s).total_seconds() / number_of_intervals + gap_between_intervals_s * (1 / number_of_intervals - 1)\n",
    "    sec_range = [(start_time_s + datetime.timedelta(seconds=i * d + i * gap_between_intervals_s),\n",
    "                  start_time_s + datetime.timedelta(seconds=(i + 1) * d + i * gap_between_intervals_s))\n",
    "                 for i in range(number_of_intervals)]\n",
    "    return [(ta.strftime(\"%Y-%m-%d %H:%M:%S\"), tb.strftime(\"%Y-%m-%d %H:%M:%S\")) for ta, tb in sec_range]\n",
    "\n",
    "\n",
    "def compute_overlap_time(range1, range2):\n",
    "    overlap_time = []\n",
    "    for start1, end1 in range1:\n",
    "        for start2, end2 in range2:\n",
    "            low = max(start1, start2)\n",
    "            high = min(end1, end2)\n",
    "            overlap_time.append((low, high))\n",
    "    return overlap_time"
   ]
  },
  {
   "cell_type": "code",
   "execution_count": null,
   "metadata": {},
   "outputs": [],
   "source": []
  }
 ],
 "metadata": {
  "kernelspec": {
   "display_name": "Python 3.9.7 ('base')",
   "language": "python",
   "name": "python3"
  },
  "language_info": {
   "codemirror_mode": {
    "name": "ipython",
    "version": 3
   },
   "file_extension": ".py",
   "mimetype": "text/x-python",
   "name": "python",
   "nbconvert_exporter": "python",
   "pygments_lexer": "ipython3",
   "version": "3.9.7"
  },
  "orig_nbformat": 4,
  "vscode": {
   "interpreter": {
    "hash": "d1730b441b80ac28842a995579e4a8c3e7db546362f320a01023b2ea2866ccf0"
   }
  }
 },
 "nbformat": 4,
 "nbformat_minor": 2
}
