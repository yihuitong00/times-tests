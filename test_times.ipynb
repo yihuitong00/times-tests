{
 "cells": [
  {
   "cell_type": "code",
   "execution_count": 1,
   "metadata": {},
   "outputs": [],
   "source": [
    "from times import compute_overlap_time, time_range\n",
    "\n",
    "def test_generic_case():\n",
    "    large = time_range(\"2010-01-12 10:00:00\", \"2010-01-12 12:00:00\")\n",
    "    short = time_range(\"2010-01-12 10:30:00\", \"2010-01-12 10:45:00\", 2, 60)\n",
    "    expected = [(\"2010-01-12 10:30:00\",\"2010-01-12 10:37:00\"), (\"2010-01-12 10:38:00\", \"2010-01-12 10:45:00\")]\n",
    "    assert compute_overlap_time(large, short) == expected"
   ]
  },
  {
   "cell_type": "code",
   "execution_count": null,
   "metadata": {},
   "outputs": [],
   "source": []
  }
 ],
 "metadata": {
  "kernelspec": {
   "display_name": "Python 3.8.9 64-bit",
   "language": "python",
   "name": "python3"
  },
  "language_info": {
   "codemirror_mode": {
    "name": "ipython",
    "version": 3
   },
   "file_extension": ".py",
   "mimetype": "text/x-python",
   "name": "python",
   "nbconvert_exporter": "python",
   "pygments_lexer": "ipython3",
   "version": "3.8.9"
  },
  "orig_nbformat": 4,
  "vscode": {
   "interpreter": {
    "hash": "31f2aee4e71d21fbe5cf8b01ff0e069b9275f58929596ceb00d14d90e3e16cd6"
   }
  }
 },
 "nbformat": 4,
 "nbformat_minor": 2
}
